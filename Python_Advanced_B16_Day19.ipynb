{
 "cells": [
  {
   "cell_type": "code",
   "execution_count": 1,
   "metadata": {},
   "outputs": [],
   "source": [
    "#introduction to exceptional handling...\n",
    "\n",
    "#process of exceptional handling...\n",
    "\n",
    "#try --> this is the place where we will keep our code\n",
    "\n",
    "#except --> we will be handling our exceptions\n",
    "\n",
    "#else --> if our try block executes well, else will also be executed.\n",
    "\n",
    "#finally: --> if our code executes or fails... finally will always execute.\n",
    "\n",
    "#irrespective of the success or failure of the code --> finally will always execute...\n",
    "\n",
    "#multiple except blocks -- done--\n",
    "\n",
    "# www.python.org --> very authenticated..!\n",
    "\n",
    "#try:\n",
    "#except:\n",
    "#else:"
   ]
  },
  {
   "cell_type": "code",
   "execution_count": 3,
   "metadata": {},
   "outputs": [
    {
     "name": "stdout",
     "output_type": "stream",
     "text": [
      "program is started\n",
      "5.0\n",
      "No error has been occured\n",
      "Entered into the finally block\n",
      "Job has finished.\n",
      "Program is completed\n"
     ]
    }
   ],
   "source": [
    "print('program is started')\n",
    "\n",
    "try: #try block is executed here\n",
    "    print(5/1)\n",
    "    \n",
    "except ZeroDivisionError:\n",
    "    print('Entered into the except block')\n",
    "    print('Dont divide any number by zero')\n",
    "    \n",
    "else:\n",
    "    print('No error has been occured')\n",
    "    \n",
    "finally:\n",
    "    print('Entered into the finally block')\n",
    "    print('Job has finished.')\n",
    "    \n",
    "print('Program is completed')"
   ]
  },
  {
   "cell_type": "code",
   "execution_count": 4,
   "metadata": {},
   "outputs": [],
   "source": [
    "# Exceptional handling\n",
    "\n",
    "# whenever the program is running successfully we will also be getting the output in the else block.\n",
    "\n",
    "#in the event of failure, only the except block will be executed."
   ]
  },
  {
   "cell_type": "code",
   "execution_count": 5,
   "metadata": {},
   "outputs": [
    {
     "name": "stdout",
     "output_type": "stream",
     "text": [
      "1.6666666666666667\n",
      "Program executed!!\n"
     ]
    }
   ],
   "source": [
    "try:\n",
    "    print(5/3)\n",
    "except ZeroDIvisionError:\n",
    "    print('Dont divide by zero')\n",
    "else:\n",
    "    print('Program executed!!')\n"
   ]
  },
  {
   "cell_type": "code",
   "execution_count": 12,
   "metadata": {},
   "outputs": [
    {
     "name": "stdout",
     "output_type": "stream",
     "text": [
      "Only Positive numbers are allowed to enter\n"
     ]
    }
   ],
   "source": [
    "def enterage(age):\n",
    "    if age < 0:\n",
    "        raise ValueError\n",
    "    if age % 2 == 0:\n",
    "        print('even')\n",
    "    else:\n",
    "        print('odd')\n",
    "        \n",
    "try:\n",
    "    num = -5\n",
    "    enterage(num)\n",
    "except ValueError:\n",
    "    print('Only Positive numbers are allowed to enter')\n",
    "except:\n",
    "    print('Something is wrong')\n",
    "    "
   ]
  },
  {
   "cell_type": "code",
   "execution_count": null,
   "metadata": {},
   "outputs": [],
   "source": []
  },
  {
   "cell_type": "code",
   "execution_count": null,
   "metadata": {},
   "outputs": [],
   "source": []
  },
  {
   "cell_type": "code",
   "execution_count": null,
   "metadata": {},
   "outputs": [],
   "source": []
  }
 ],
 "metadata": {
  "kernelspec": {
   "display_name": "Python 3",
   "language": "python",
   "name": "python3"
  },
  "language_info": {
   "codemirror_mode": {
    "name": "ipython",
    "version": 3
   },
   "file_extension": ".py",
   "mimetype": "text/x-python",
   "name": "python",
   "nbconvert_exporter": "python",
   "pygments_lexer": "ipython3",
   "version": "3.7.6"
  }
 },
 "nbformat": 4,
 "nbformat_minor": 4
}
